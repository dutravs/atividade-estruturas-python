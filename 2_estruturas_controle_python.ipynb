{
  "nbformat": 4,
  "nbformat_minor": 0,
  "metadata": {
    "kernelspec": {
      "display_name": "Python 3",
      "language": "python",
      "name": "python3"
    },
    "language_info": {
      "codemirror_mode": {
        "name": "ipython",
        "version": 3
      },
      "file_extension": ".py",
      "mimetype": "text/x-python",
      "name": "python",
      "nbconvert_exporter": "python",
      "pygments_lexer": "ipython3",
      "version": "3.7.4"
    },
    "colab": {
      "name": "2_estruturas_controle_python.ipynb",
      "provenance": [],
      "collapsed_sections": []
    }
  },
  "cells": [
    {
      "cell_type": "markdown",
      "metadata": {
        "id": "WqqWs5JIzCze",
        "colab_type": "text"
      },
      "source": [
        "## Estruturas de Controle \n",
        "\n",
        "\n",
        "### Estruturas de Seleção\n",
        "\n",
        "As estruturas de seleção *if* e *if/else* são usadas para controle da execução sequêncial de um programa. \n",
        "Na prática, se uma determinada condição lógica for avaliada como verdadeira, o interpretador Python executa todos os comandos dentro do bloco da estrutura de seleção. \n",
        "Em Python, para a estruturas de seleção única usamos a palavra-chave *if* e para estruturas de seleção múltiplas usamos o nome *elsif*. \n",
        "\n",
        "```python\n",
        " if condicao1:\n",
        "    # Executa quando a condição1 for verdadeira\n",
        " elif condicao2:\n",
        "    # Executa quando a condição2 for verdadeira\n",
        " else:\n",
        "    # Executa quando todas condições não forem satisfeitas\n",
        "```\n",
        "\n",
        "### Estruturas de Repetição\n",
        "\n",
        "O Python possui duas estruturas de repetição, são elas: *for* e *while*. A estrutura de repetição *for*, em sua sintaxe, difere um pouco, por exemplo, das linguagens de programação baseadas em C, onde definimos uma condição de parada (i < n) e um passo de iteração (i++). O comando *for* é usado para percorrer os itens de qualquer sequência (p. ex.: lista, string ou tupla) para que eles apareçam em série ou simplesmente como um laço de repetição (*loop*). "
      ]
    },
    {
      "cell_type": "code",
      "metadata": {
        "id": "3IrK6VSEzCzh",
        "colab_type": "code",
        "colab": {}
      },
      "source": [
        "cores  = [\"Vermelho\", \"Laranja\", \"Amarelo\", \"Verde\", \"Azul\", \"Anil\", \"Violeta\"]\n",
        "\n",
        "for cor in cores:\n",
        "    print(\"Eu ♥ \" + cor)"
      ],
      "execution_count": 0,
      "outputs": []
    },
    {
      "cell_type": "markdown",
      "metadata": {
        "id": "wuKzhyvizCzl",
        "colab_type": "text"
      },
      "source": [
        "Se você possui alguma experiência anterior com programação, deve estar se perguntando neste exato momento, como podemos percorrer os itens de uma sequência usando índices? Para tal, podemos utilizar a função range() em conjunto com a função len(). A função *range(start, stop, step)* do Python, retorna uma sequência de números, começando em 0 (zero) por padrão, e incrementando de um em um, até o fim de um número especificado como parâmetro. A função len(), por sua vez, retorna o número de itens de uma determina sequência. Acompanhe abaixo, alguns exemplos de como essas funções podem ser usadas em conjunto com a instrução *for* para indexar itens de uma lista."
      ]
    },
    {
      "cell_type": "code",
      "metadata": {
        "id": "J5MSEk7JzCzm",
        "colab_type": "code",
        "colab": {}
      },
      "source": [
        "# EXEMPLOS - Função range()\n",
        "lista1 = range(5)\n",
        "lista2 = range(10, 20, 2)\n",
        "lista3 = range(1, 5)\n",
        "lista4 = range(5, -1, -1)\n",
        "\n",
        "print(\"EXEMPLOS: Função range()\\n\")\n",
        "\n",
        "for item in lista1:\n",
        "    print(item) # Para range(5) Saída: [0, 1, 2, 3, 4]\n",
        "\n",
        "print(\"\\n\") \n",
        "    \n",
        "for item in lista2:\n",
        "    print(item) # Para range(10, 20, 2) Saída: [10, 12, 14, 16, 18]\n",
        "\n",
        "print(\"\\n\")     \n",
        "    \n",
        "for item in lista3:\n",
        "    print(item) # Para range(1, 5) Saída: [1, 2, 3, 4]\n",
        "\n",
        "print(\"\\n\")     \n",
        "    \n",
        "for item in lista4:\n",
        "    print(item) # Para range(1, 5) Saída: [1, 2, 3, 4]\n",
        "    \n",
        "    \n",
        "print(\"\\n\")     \n",
        "    \n",
        "    \n",
        "# EXEMPLOS - for, range() e len\n",
        "print(\"EXEMPLOS: for, len() e range()\\n\")\n",
        "\n",
        "\n",
        "# Imprimindo lista de cores\n",
        "cores  = [\"Vermelho\", \"Laranja\", \"Amarelo\", \"Verde\", \"Azul\", \"Anil\", \"Violeta\"]\n",
        "n = len(cores) # a função len() retorna o número de elementos\n",
        "\n",
        "for i in range(n):\n",
        "    print(cores[i])\n",
        "\n",
        "print(\"\\n\")\n",
        "\n",
        "for i in range((n - 1), -1, -1):\n",
        "    print(cores[i])\n",
        "\n",
        "\n",
        "# for aninhado para impressão de um padrão numérico\n",
        "for i in range(10):\n",
        "    for j in range(i):\n",
        "        print(i, end=\" \")    # Imprime o número\n",
        "    print(\"\\n\")              # Adiciona quebra de linha ao final de cada linha"
      ],
      "execution_count": 0,
      "outputs": []
    },
    {
      "cell_type": "markdown",
      "metadata": {
        "id": "L8VgrgCOzCzp",
        "colab_type": "text"
      },
      "source": [
        "Assim como o for, a estrutura de repetição while é usada para repetir um trecho de código várias vezes, porém, no while a repetição continua enquanto uma condição lógica definida seja verdadeira (True), veja alguns exemplos abaixo: \n",
        "\n",
        "```python\n",
        "while condicao: # enquanto condição for verdadeira\n",
        "    # Executa algum(ns) comando(s)\n",
        "    # Atualiza variável de controle\n",
        "```"
      ]
    },
    {
      "cell_type": "code",
      "metadata": {
        "id": "V8Q9ygWLzCzq",
        "colab_type": "code",
        "colab": {}
      },
      "source": [
        "contador = 0                 # Define uma variável de controle que será avaliada na condição\n",
        "\n",
        "while contador < 10:         # enquanto a condição (contador < 10) for verdadeira\n",
        "    print(contador)          # Executa algum comando: print(contador)\n",
        "    contador = contador + 1  # Atualiza a variável de controle\n",
        "    \n",
        "print(\"\\n\")\n",
        "\n",
        "\n",
        "# EXEMPLO: Algoritmo Fatorial Iterativo\n",
        "n = 3\n",
        "i = 1\n",
        "resultado = 1\n",
        "\n",
        "while i <= n:\n",
        "    resultado = resultado * i\n",
        "    i = i + 1\n",
        "    \n",
        "print(\"Fatorial de %d é %d\" % (n, resultado))\n",
        "    "
      ],
      "execution_count": 0,
      "outputs": []
    },
    {
      "cell_type": "markdown",
      "metadata": {
        "id": "H1BOPpXEzCzt",
        "colab_type": "text"
      },
      "source": [
        "### Técnicas de Looping\n",
        "\n",
        "1. Ao percorrer dicionários, a chave e o valor, podem ser recuperados ao mesmo tempo através do método *items()*;\n",
        "\n",
        "```python\n",
        "websites = {'site': \"Python Software Foundation\", 'url': \"https://www.python.org/\"}\n",
        "\n",
        "for key, value in websites.items():\n",
        "    print(key, value)\n",
        "    \n",
        "# Saída\n",
        "# site Python Software Foundation\n",
        "# url https://www.python.org/\n",
        "```\n",
        "\n",
        "2. Ao percorrer sequências, índice e o item, podem ser recuperados ao mesmo tempo através do método *enumerate()*;\n",
        "\n",
        "```python\n",
        "rgb = [\"Red\", \"Green\", \"Blue\"]\n",
        "\n",
        "for i, item in enumerate(rgb):\n",
        "    print(i, item)\n",
        "    \n",
        "# Saída\n",
        "# 0 Red\n",
        "# 1 Green\n",
        "# 2 Blue\n",
        "```\n",
        "\n",
        "3. Para percorrer duas ou mais sequências ao mesmo tempo, as entradas podem ser emparelhadas através da função *zip()*;\n",
        "\n",
        "\n",
        "```python\n",
        "condinomes_android = [\"Petit Four\", \"Eclair\",  \"Honeycomb\", \"Ice Cream Sandwich\", \"Lollipop\", \"Marshmallow\", \"Nougat\", \"Oreo\", \"Pie\"]\n",
        "versoes_android = [\"1.1\", \"2.0 – 2.1\", \"3.0 – 3.2.6\", \"4.0 – 4.0.4\", \"5.0 – 5.1.1\", \"6.0 – 6.0.1\", \"7.0 – 7.1.2\", \"8.0 – 8.1\", \"9.0\"]\n",
        "\n",
        "for codinome, versao in zip(condinomes_android, versoes_android):\n",
        "    print(codinome, versao)\n",
        "    \n",
        "# Saída\n",
        "# Petit Four 1.1\n",
        "# Eclair 2.0 – 2.1\n",
        "# Honeycomb 3.0 – 3.2.6\n",
        "# Ice Cream Sandwich 4.0 – 4.0.4\n",
        "# Lollipop 5.0 – 5.1.1\n",
        "# Marshmallow 6.0 – 6.0.1\n",
        "# Nougat 7.0 – 7.1.2\n",
        "# Oreo 8.0 – 8.1\n",
        "# Pie 9.0\n",
        "```\n",
        "\n",
        "4. Para iterar em uma sequência ordenada sem alterar a ordem dos elementos utilize o metodo *sorted()* que irá retornar uma nova lista ordenada sem alterar a original\n",
        "\n",
        "```python\n",
        "estados_sudeste_brasileiro = [\"São Paulo\", \"Rio de Janeiro\", \"Minas Gerais\", \"Espírito Santo\"]\n",
        "\n",
        "for estado in sorted(set(estados_sudeste_brasileiro)):\n",
        "    print(estado)\n",
        "    \n",
        "# Saída\n",
        "# Espírito Santo\n",
        "# Minas Gerais\n",
        "# Rio de Janeiro\n",
        "# São Paulo    \n",
        "    \n",
        "```"
      ]
    },
    {
      "cell_type": "markdown",
      "metadata": {
        "id": "gBHiz4s1zCzt",
        "colab_type": "text"
      },
      "source": [
        "## Exercícios"
      ]
    },
    {
      "cell_type": "markdown",
      "metadata": {
        "id": "XZR_ykAfzCzu",
        "colab_type": "text"
      },
      "source": [
        "1. A nota final de um estudante é calculada a partir de três notas atribuídas, respectivamente, a um trabalho\n",
        "de laboratório, a uma avaliação semestral e a um exame final. A média das três notas mencionadas\n",
        "obedece aos pesos a seguir:\n",
        "\n",
        "| Nota                    | Peso |\n",
        "|-------------------------|------|\n",
        "| Trabalho de Laboratório | 2    |\n",
        "| Avaliação Semestral     | 3    |\n",
        "| Exame Final             | 5    |\n",
        "\n",
        "\n",
        "Faça um programa que receba as três notas, calcule e mostre a média ponderada e o conceito que segue\n",
        "a tabela:\n",
        "\n",
        "| Média Ponderada        | Conceito |\n",
        "|------------------------|----------|\n",
        "| 8,00 <= Média <= 10,00 | A        |\n",
        "| 7,00 <= Média < 8,00   | B        |\n",
        "| 6,00 <= Média < 7,00   | C        |\n",
        "| 5,00 <= Média < 6,00   | D        |\n",
        "| 0,00 <= Média < 5,00   | E        |\n",
        "\n"
      ]
    },
    {
      "cell_type": "code",
      "metadata": {
        "id": "3hlWIfELzCzw",
        "colab_type": "code",
        "outputId": "72943d37-49a7-4dae-9138-cb1e5b2f6d65",
        "colab": {
          "base_uri": "https://localhost:8080/",
          "height": 85
        }
      },
      "source": [
        "a = float(input('Digite a nota do trabalho de laboratório: '))\n",
        "b = float(input('Digite a nota da avaliação semestral: '))\n",
        "c = float(input('Digite a nota do exame final: '))\n",
        "\n",
        "conceito = 0\n",
        "peso1 = 2\n",
        "peso2 = 3\n",
        "peso3 = 5\n",
        "pesototal = (peso1+peso2+peso3)\n",
        "\n",
        "media = ((a*peso1)+(b*peso2)+(c*peso3))/(pesototal)\n",
        "\n",
        "if(media>=0 and media<5.0):\n",
        "  conceito = 'E'\n",
        "  print('Sua média foi '+str(media)+' e seu conceito foi '+str(conceito))\n",
        "elif(media>=5.0 and media<6.0):\n",
        "  conceito = 'D'\n",
        "  print('Sua média foi '+str(media)+' e seu conceito foi '+str(conceito))\n",
        "elif(media>=6.0 and media<7.0):\n",
        "  conceito = 'C'\n",
        "  print('Sua média foi '+str(media)+' e seu conceito foi '+str(conceito))\n",
        "elif(media>=7.0 and media<8.0):\n",
        "  conceito = 'B'\n",
        "  print('Sua média foi '+str(media)+' e seu conceito foi '+str(conceito))\n",
        "else:\n",
        "  conceito = 'A'\n",
        "  print('Sua média foi '+str(media)+' e seu conceito foi '+str(conceito))\n",
        "  "
      ],
      "execution_count": 0,
      "outputs": [
        {
          "output_type": "stream",
          "text": [
            "Digite a nota do trabalho de laboratório: 5\n",
            "Digite a nota da avaliação semestral: 8\n",
            "Digite a nota do exame final: 10\n",
            "Sua média foi 8.4 e seu conceito foi A\n"
          ],
          "name": "stdout"
        }
      ]
    },
    {
      "cell_type": "markdown",
      "metadata": {
        "id": "ZW35MWU_zCzy",
        "colab_type": "text"
      },
      "source": [
        "2. Faça um programa que receba três notas de um aluno, calcule e mostre a média aritmética e a mensagem constante na tabela a seguir. \n",
        "\n",
        "| Média                  | Situação       |\n",
        "|------------------------|----------------|\n",
        "| 7,00 <= Média <= 10,00 | Aprovado       |\n",
        "| 3,00 <= Média < 7,00   | Exame Especial |\n",
        "| 0,00 <= Média < 3,00   | Reprovado      |"
      ]
    },
    {
      "cell_type": "code",
      "metadata": {
        "id": "AhRYBNrzzCz1",
        "colab_type": "code",
        "outputId": "8bc37a8e-def8-4223-af96-880ea79a777f",
        "colab": {
          "base_uri": "https://localhost:8080/",
          "height": 85
        }
      },
      "source": [
        "a = float(input('Digite a primeira nota: '))\n",
        "b = float(input('Digite a segunda nota: '))\n",
        "c = float(input('Digite a terceira nota: '))\n",
        "\n",
        "situacao = 0\n",
        "media=(a+b+c)/3\n",
        "\n",
        "if(media>=0 and media<3.0):\n",
        "  situacao = 'Reprovado'\n",
        "  print('Sua média foi '+str(media)+' e sua situação é: '+str(situacao))\n",
        "if(media>=3.0 and media<7.0):\n",
        "  situacao = 'Exame Especial'\n",
        "  print('Sua média foi '+str(media)+' e sua situação é: '+str(situacao))\n",
        "else:\n",
        "  situacao = 'Aprovado'\n",
        "  print('Sua média foi '+str(media)+' e sua situação é: '+str(situacao))"
      ],
      "execution_count": 0,
      "outputs": [
        {
          "output_type": "stream",
          "text": [
            "Digite a primeira nota: 5\n",
            "Digite a segunda nota: 5\n",
            "Digite a terceira nota: 7\n",
            "Sua média foi 5.666666666666667 e sua situação é: Exame Especial\n"
          ],
          "name": "stdout"
        }
      ]
    },
    {
      "cell_type": "markdown",
      "metadata": {
        "id": "W8tHTKXezCz4",
        "colab_type": "text"
      },
      "source": [
        "3. Faça um programa que receba dois números e mostre o maior."
      ]
    },
    {
      "cell_type": "code",
      "metadata": {
        "id": "dX3W2NaEzCz5",
        "colab_type": "code",
        "outputId": "2477f719-239d-4121-8766-a48d4ec347af",
        "colab": {
          "base_uri": "https://localhost:8080/",
          "height": 68
        }
      },
      "source": [
        "a = int(input('Digite um número: '))\n",
        "b = int(input('Digite outro número: '))\n",
        "\n",
        "maiornumero = 0\n",
        "\n",
        "if(a>b):\n",
        "  maiornumero = a\n",
        "else:\n",
        "  maiornumero = b\n",
        "\n",
        "print('O maior número é '+str(maiornumero))"
      ],
      "execution_count": 0,
      "outputs": [
        {
          "output_type": "stream",
          "text": [
            "Digite um número: 3\n",
            "Digite outro número: 5\n",
            "O maior número é 5\n"
          ],
          "name": "stdout"
        }
      ]
    },
    {
      "cell_type": "markdown",
      "metadata": {
        "id": "fgsh66SNzCz7",
        "colab_type": "text"
      },
      "source": [
        "4. Faça um programa que receba um número inteiro e verifique se é par ou ímpar."
      ]
    },
    {
      "cell_type": "code",
      "metadata": {
        "id": "nWmNTp_UzCz8",
        "colab_type": "code",
        "outputId": "0473a077-e89a-4a3e-e20e-24b9e5413a4b",
        "colab": {
          "base_uri": "https://localhost:8080/",
          "height": 51
        }
      },
      "source": [
        "a = int(input('Digite um número: '))\n",
        "\n",
        "opmod = a%2\n",
        "\n",
        "if(opmod == 0):\n",
        "  print('O número '+str(a)+' é par')\n",
        "else:\n",
        "  print('O número '+str(a)+' é impar')"
      ],
      "execution_count": 0,
      "outputs": [
        {
          "output_type": "stream",
          "text": [
            "Digite um número: 3\n",
            "O número 3 é impar\n"
          ],
          "name": "stdout"
        }
      ]
    },
    {
      "cell_type": "markdown",
      "metadata": {
        "id": "0OfO0XW2zCz_",
        "colab_type": "text"
      },
      "source": [
        "5. Faça um programa que mostre o menu de opções a seguir, receba a opção do usuário e os dados necessários para executar cada operação.\n",
        "\n",
        "Menu de opções:\n",
        "\n",
        "1. Somar dois números.\n",
        "2. Raiz quadrada de um número.\n",
        "\n",
        "Digite a opção desejada:"
      ]
    },
    {
      "cell_type": "code",
      "metadata": {
        "id": "wNlyrLcfzCz_",
        "colab_type": "code",
        "outputId": "0e9b43e3-4251-4f2d-e359-d229c00eec97",
        "colab": {
          "base_uri": "https://localhost:8080/",
          "height": 68
        }
      },
      "source": [
        "a = int(input('Digite 1 para somar dois números ou 2 para saber a raiz quadrada: '))\n",
        "\n",
        "if(a == 1):\n",
        "  b = int(input('Digite o primeiro número: '))\n",
        "  c = int(input('Digite o segundo número: '))\n",
        "  soma = (b+c)\n",
        "  print('O resultado da soma é: '+str(soma))\n",
        "else: \n",
        "  d = int(input('Digite o número: '))\n",
        "  sqrt = d*d\n",
        "  print('A raiz quadrada é '+str(sqrt))\n",
        "\n"
      ],
      "execution_count": 0,
      "outputs": [
        {
          "output_type": "stream",
          "text": [
            "Digite 1 para somar dois números ou 2 para saber a raiz quadrada: 2\n",
            "Digite o número: 5\n",
            "A raiz quadrada é 25\n"
          ],
          "name": "stdout"
        }
      ]
    },
    {
      "cell_type": "markdown",
      "metadata": {
        "id": "KEHEZINuzC0C",
        "colab_type": "text"
      },
      "source": [
        "6. Faça um programa que receba o código correspondente ao cargo de um funcionário e seu salário atual e mostre o cargo, o valor do aumento e seu novo salário. Os cargos estão na tabela a seguir.\n",
        "\n",
        "| Código | Cargo       | Percentual  |\n",
        "|--------|-------------|-------------|\n",
        "| 1      | Escrituário | 50%         |\n",
        "| 2      | Secretário  | 35%         |\n",
        "| 3      | Caixa       | 20%         |\n",
        "| 4      | Gerente     | 10%         |\n",
        "| 5      | Diretor     | Sem Aumento |"
      ]
    },
    {
      "cell_type": "code",
      "metadata": {
        "id": "Dg9CgMIVzC0C",
        "colab_type": "code",
        "outputId": "e4d99004-561a-4259-9b6f-83c107442947",
        "colab": {
          "base_uri": "https://localhost:8080/",
          "height": 68
        }
      },
      "source": [
        "a = int(input('Digite o seu código: '))\n",
        "b = float(input('Digite o seu salário: '))\n",
        "cargo = 0\n",
        "perc = 0\n",
        "\n",
        "if(a == 1):\n",
        "  cargo = 'Escrituário'\n",
        "  perc = 50/100\n",
        "  novsal = (b+(b*perc))\n",
        "  print('Seu cargo é '+str(cargo)+', seu percentual é '+str(perc)+' e seu novo salário é '+str(novsal))\n",
        "elif(a == 2):\n",
        "  cargo = 'Secretário'\n",
        "  perc = 35/100\n",
        "  novsal = (b+(b*perc))\n",
        "  print('Seu cargo é '+str(cargo)+', seu percentual é '+str(perc)+' e seu novo salário é '+str(novsal))\n",
        "elif(a == 3):\n",
        "  cargo = 'Caixa'\n",
        "  perc = 20/100\n",
        "  novsal = (b+(b*perc))\n",
        "  print('Seu cargo é '+str(cargo)+', seu percentual é '+str(perc)+' e seu novo salário é '+str(novsal))\n",
        "elif(a == 4):\n",
        "  cargo = 'Gerente'\n",
        "  perc = 10/100\n",
        "  novsal = (b+(b*perc))\n",
        "  print('Seu cargo é '+str(cargo)+', seu percentual é '+str(perc)+' e seu novo salário é '+str(novsal))\n",
        "elif(a == 5):\n",
        "  cargo = 'Direto'\n",
        "  perc = 0\n",
        "  novsal = (b+(b*perc))\n",
        "  print('Seu cargo é '+str(cargo)+', seu percentual é '+str(perc)+' e seu novo salário é '+str(novsal))\n",
        "else: \n",
        "  print('Código inválido.')\n"
      ],
      "execution_count": 0,
      "outputs": [
        {
          "output_type": "stream",
          "text": [
            "Digite o seu código: 5\n",
            "Digite o seu salário: 200\n",
            "Seu cargo é Direto, seu percentual é 0 e seu novo salário é 200.0\n"
          ],
          "name": "stdout"
        }
      ]
    },
    {
      "cell_type": "markdown",
      "metadata": {
        "id": "qJGe6FWZzC0F",
        "colab_type": "text"
      },
      "source": [
        "7. Faça um programa que receba o salário inicial de um funcionário, calcule e mostre o novo salário, acrescido de bonificação e de auxílio escola.\n",
        "\n",
        "| Salário                      | Bonificação     |\n",
        "|------------------------------|-----------------|\n",
        "| Até R\\\\$500,00                 | 5% do salário  |\n",
        "| Entre R\\\\$500,00 e R\\$1.1200,00 | 12% do salário  \n",
        "| Acima de R\\\\$1.200,00          | Sem Bonificação |\n",
        "\n",
        "| Salário           | Auxílio Escola |\n",
        "|-------------------|----------------|\n",
        "| Até R\\\\$600,00      | R\\\\$150,00       |\n",
        "| Acima de R\\\\$600,00 | R\\\\$100,00       |"
      ]
    },
    {
      "cell_type": "code",
      "metadata": {
        "id": "MV7BwxghzC0F",
        "colab_type": "code",
        "outputId": "e62668e3-bbad-4c52-ad53-22e440805b0f",
        "colab": {
          "base_uri": "https://localhost:8080/",
          "height": 51
        }
      },
      "source": [
        "a = float(input('Digite seu salário: '))\n",
        "boni = 0\n",
        "aux = 0\n",
        "\n",
        "\n",
        "if(a<500.00):\n",
        "  boni = 5/100\n",
        "  novosal = (a+(a*boni))\n",
        "elif(a>= 500 and a<=1.1200):\n",
        "  boni = 12/100\n",
        "  novosal = (a+(a*boni))\n",
        "else:\n",
        "  boni = 0\n",
        "  novosal = (a+(a*boni))\n",
        "\n",
        "if(novosal<600):\n",
        "  aux = 150.00\n",
        "  print('Seu novo salário é '+str(novosal)+' e seu auxílio escola é '+str(aux))\n",
        "else:\n",
        "  aux = 100.00\n",
        "  print('Seu novo salário é '+str(novosal)+' e seu auxílio escola é '+str(aux))\n"
      ],
      "execution_count": 0,
      "outputs": [
        {
          "output_type": "stream",
          "text": [
            "Digite seu salário: 400\n",
            "Seu novo salário é 420.0 e seu auxílio escola é 150.0\n"
          ],
          "name": "stdout"
        }
      ]
    },
    {
      "cell_type": "markdown",
      "metadata": {
        "id": "_KdHY9bmzC0I",
        "colab_type": "text"
      },
      "source": [
        "8. Um supermercado deseja reajustar os preços de seus produtos usando o seguinte critério: o produto poderá ter seu preço aumentado ou diminuído. Para o preço ser alterado, o produto deve preencher pelo menos um dos requisitos a seguir:\n",
        "\n",
        "| Venda Média Mensal | Preço Atual             | % de Aumento | % de Diminuição |\n",
        "|--------------------|-------------------------|--------------|-----------------|\n",
        "| < 500              | < R\\\\$ 30,00              | 10           | -               |\n",
        "| >= 500 e < 1.200   | >= R\\\\$30,00 e < R\\\\$ 80,00 | 15           | -               |\n",
        "| >= 1.200           | >= R\\\\$80,00              | -            | 20              |"
      ]
    },
    {
      "cell_type": "code",
      "metadata": {
        "id": "9YlzU35VzC0J",
        "colab_type": "code",
        "colab": {
          "base_uri": "https://localhost:8080/",
          "height": 68
        },
        "outputId": "77560e5d-26d6-45e5-eff6-c948671c388f"
      },
      "source": [
        "a = int(input('Digite a venda: '))\n",
        "b = float(input('Digite o preço: '))\n",
        "aum = 0\n",
        "dim = 0 \n",
        "pfinal = 0 \n",
        "\n",
        "if(a<500 or b<30.00):\n",
        "  aum = 10/100\n",
        "  pfinal = (b+(b*aum))\n",
        "  print('O novo preço, após o aumento, é '+str(pfinal))\n",
        "elif(a>=500 or a>=30.00 and a<=80.00):\n",
        "  aum = 15/100\n",
        "  pfinal = (b+(b*aum))\n",
        "  print('O novo preço, após o aumento, é '+str(pfinal))\n",
        "else: \n",
        "  dim = 20/100\n",
        "  pfinal = (b-(b*dim))\n",
        "  print('O novo preço, após o decrécimo, é '+str(pfinal))\n"
      ],
      "execution_count": 33,
      "outputs": [
        {
          "output_type": "stream",
          "text": [
            "Digite a venda: 4\n",
            "Digite o preço: 20\n",
            "O novo preço, após o aumento, é 22.0\n"
          ],
          "name": "stdout"
        }
      ]
    },
    {
      "cell_type": "markdown",
      "metadata": {
        "id": "n5-7FspSzC0M",
        "colab_type": "text"
      },
      "source": [
        "9. Faça um programa para resolver equações do 2º grau.\n",
        "\n",
        "$$\n",
        "a^{2} + bx + c = 0\n",
        "$$\n",
        "\n",
        "\n",
        "Onde x é uma variável, sendo a, b e c constantes, com a ≠ 0 \n",
        "\n",
        "\n",
        "$$\n",
        "\\Delta = b^{2} - 4ac\n",
        "$$\n",
        "\n",
        "$$\n",
        "\\Delta < 0 \\rightarrow não \\: existe  \\: raiz  \\: real\n",
        "$$\n",
        "\n",
        "$$\n",
        "\\Delta = 0 \\rightarrow  existe  \\: raiz  \\: real\n",
        "$$\n",
        "\n",
        "$$\n",
        "x = \\frac{-b}{2a}\n",
        "$$\n",
        "\n",
        "\n",
        "\n",
        "$$\n",
        "\\Delta > 0 \\rightarrow existem \\: duas  \\: raizes  \\: reais\n",
        "$$\n",
        "\n",
        "\n",
        "$$\n",
        "x_1 = \\frac{-b \\: + \\: \\sqrt{\\Delta } }{2a}\n",
        "$$\n",
        "\n",
        "$$\n",
        "x_2 = \\frac{-b \\: - \\: \\sqrt{\\Delta } }{2a}\n",
        "$$"
      ]
    },
    {
      "cell_type": "code",
      "metadata": {
        "id": "8eagpwYUzC0N",
        "colab_type": "code",
        "colab": {
          "base_uri": "https://localhost:8080/",
          "height": 85
        },
        "outputId": "6dae37a6-86ae-463b-c6ab-8c9e1f322b12"
      },
      "source": [
        "a = int(input('Digite um número: '))\n",
        "b = int(input('Digite um número: '))\n",
        "c = int(input('Digite um número: '))\n",
        "\n",
        "d = (b*b) - ((4*a)*c)\n",
        "if(d<0):\n",
        "  print('Não existe raíz real.')\n",
        "elif(d == 0):\n",
        "  x = (-b)/(2*a)\n",
        "  print('A raiz real é '+str(x))\n",
        "else: \n",
        "  quadd = d**(1/2)\n",
        "  x1 = (-b+quadd)/(2*a)\n",
        "  x2 = (-b-quadd)/(2*a)\n",
        "  print('As raízes são '+str(x1)+' e '+str(x2))\n"
      ],
      "execution_count": 15,
      "outputs": [
        {
          "output_type": "stream",
          "text": [
            "Digite um número: 1\n",
            "Digite um número: -3\n",
            "Digite um número: -10\n",
            "As raízes são 5.0 e -2.0\n"
          ],
          "name": "stdout"
        }
      ]
    },
    {
      "cell_type": "markdown",
      "metadata": {
        "id": "TZDB9LklzC0P",
        "colab_type": "text"
      },
      "source": [
        "10. Dados três valores X, Y e Z, verifique se eles podem ser os comprimentos dos lados de um triângulo e, se forem, verifique se é um triângulo equilátero, isósceles ou escaleno. Se eles não formarem um triângulo, escreva uma mensagem. Considere que:\n",
        "\n",
        "- O comprimento de cada lado de um triângulo é menor que a soma dos outros dois lados;\n",
        "- Chama-se equilátero o triângulo que tem três lados iguais;\n",
        "- Denomina-se isósceles o triângulo que tem o comprimento de dois lados iguais;\n",
        "- Recebe o nome de escaleno o triângulo que tem os três lados diferentes."
      ]
    },
    {
      "cell_type": "code",
      "metadata": {
        "id": "lL-CKggyzC0Q",
        "colab_type": "code",
        "colab": {
          "base_uri": "https://localhost:8080/",
          "height": 85
        },
        "outputId": "945ccce0-c9a2-4a06-eda1-070715a31b1a"
      },
      "source": [
        "a = float(input('Digite um lado do triângulo: '))\n",
        "b = float(input('Digite um lado do triângulo: '))\n",
        "c = float(input('Digite um lado do triângulo: '))\n",
        "\n",
        "soma = a+b\n",
        "soma2 = c+a\n",
        "soma3 = b+c\n",
        "\n",
        "if(soma>c, soma2>b, soma3>a):\n",
        "    if(a==b==c):\n",
        "        print('É um triângulo equilátero!')\n",
        "    if(a==b!=c):\n",
        "        print('É um triânqulo Isósceles!')\n",
        "    if(a==c!=b):\n",
        "        print('É um triânqulo Isósceles!')\n",
        "    if(b==c!=a):\n",
        "        print('É um triânqulo Isósceles!')\n",
        "    if(a!=b!=c):\n",
        "        print('É um triângulo Escaleno!')\n",
        "\n",
        "else:\n",
        "    print('Valor inválido!')\n"
      ],
      "execution_count": 32,
      "outputs": [
        {
          "output_type": "stream",
          "text": [
            "Digite um lado do triângulo: 4\n",
            "Digite um lado do triângulo: 3\n",
            "Digite um lado do triângulo: 2\n",
            "É um triângulo Escaleno!\n"
          ],
          "name": "stdout"
        }
      ]
    },
    {
      "cell_type": "markdown",
      "metadata": {
        "id": "OkFNJIdgzC0S",
        "colab_type": "text"
      },
      "source": [
        "11. Faça um programa que receba a altura e o peso de uma pessoa. De acordo com a tabela a seguir, verifique e mostre a classificação dessa pessoa.\n",
        "\n",
        "| Altura           | Peso até 60 | Peso entre 60 e 90 (Inclusive) | Peso Acima de 90 |\n",
        "|------------------|-------------|--------------------------------|------------------|\n",
        "| Menores que 1,20 | A           | D                              | G                |\n",
        "| De 1,20 a 1,70   | B           | E                              | H                |\n",
        "| Maiores que 1,70 | C           | F                              | I                |"
      ]
    },
    {
      "cell_type": "code",
      "metadata": {
        "id": "TfIg7lLOzC0T",
        "colab_type": "code",
        "outputId": "d0307cb1-b293-43e9-c08d-be501b6e5e49",
        "colab": {
          "base_uri": "https://localhost:8080/",
          "height": 68
        }
      },
      "source": [
        "a = float(input('Digite sua altura: '))\n",
        "b = float(input('Digite seu peso: '))\n",
        "peso = 0\n",
        "\n",
        "if(a<1.20):\n",
        "  if(b<60):\n",
        "    peso = 'A'\n",
        "  if(b>=60 and b<=90):\n",
        "    peso = 'D'\n",
        "  if(b>90):\n",
        "    peso = 'G'\n",
        "elif(a>=1.20 and a<=1.70):\n",
        "  if(b<60):\n",
        "    peso = 'B'\n",
        "  if(b>=60 and b<=90):\n",
        "    peso = 'E'\n",
        "  if(b>90):\n",
        "    peso = 'H'\n",
        "else:\n",
        "  if(b<60):\n",
        "    peso = 'C'\n",
        "  if(b>=60 and b<=90):\n",
        "    peso = 'F'\n",
        "  if(b>90):\n",
        "    peso = 'I'\n",
        "\n",
        "print('Sua classificação é: '+str(peso))"
      ],
      "execution_count": 0,
      "outputs": [
        {
          "output_type": "stream",
          "text": [
            "Digite sua altura: 1.90\n",
            "Digite seu peso: 100\n",
            "Sua classificação é: I\n"
          ],
          "name": "stdout"
        }
      ]
    },
    {
      "cell_type": "markdown",
      "metadata": {
        "id": "kSz2zbbBzC0V",
        "colab_type": "text"
      },
      "source": [
        "12. Faça um programa que receba:\n",
        "\n",
        "- O código de um produto comprado, supondo que a digitação do código do produto seja sempre válida, isto é, um número inteiro entre 1 e 10.\n",
        "- O peso do produto em quilos.\n",
        "- O código do país de origem, supondo que a digitação do código seja sempre válida, isto é, um número inteiro entre 1 e 3. \n",
        "\n",
        "Tabelas:\n",
        "\n",
        "| Código do País de Origem | Imposto |\n",
        "|--------------------------|---------|\n",
        "| 1                        | 0%      |\n",
        "| 2                        | 15%     |\n",
        "| 3                        | 25%     |\n",
        "\n",
        "\n",
        "| Código do Produto | Preço por Grama |\n",
        "|-------------------|-----------------|\n",
        "| 1 a 4             | 10              |\n",
        "| 5 a 7             | 25              |\n",
        "| 8 a 10            | 35              |"
      ]
    },
    {
      "cell_type": "code",
      "metadata": {
        "id": "95ahnHdWzC0W",
        "colab_type": "code",
        "outputId": "2578de38-0896-4933-acc3-13ec1b0e290a",
        "colab": {
          "base_uri": "https://localhost:8080/",
          "height": 85
        }
      },
      "source": [
        "a = int(input('Digite o código do produto: '))\n",
        "b = int(input('Digite o código do país de origem: '))\n",
        "c = float(input('Digite o peso do produto, em quilos: '))\n",
        "\n",
        "g = (c * 1000)\n",
        "preco = 0\n",
        "pkg = ((g*preco)/1000)\n",
        "imp = 0 \n",
        "pfinal = (pkg+(pkg*imp))\n",
        "\n",
        "if(a>= 1 and a <=4):\n",
        "  preco = 10\n",
        "  if(b == '1'):\n",
        "    pfinal = pkg\n",
        "    print('O código do produto é '+str(a)+', o código do país é '+str(b)+\n",
        "    ', e o preço final é '+str(pkg))\n",
        "  elif(b == '2'):\n",
        "    imp = 15/100\n",
        "    print('O código do produto é '+str(a)+', o código do país é '+str(b)+ \n",
        "    ', e o preço final é '+str(pfinal))\n",
        "  else:\n",
        "    imp = 25/100\n",
        "    print('O código do produto é '+str(a)+', o código do país é '+str(b)+\n",
        "    ', e o preço final é '+str(pfinal))\n",
        "elif(a>= 5 and a<=7):\n",
        "  preco = 25\n",
        "  if(b == '1'):\n",
        "    imp = 0 \n",
        "    pfinal = pkg\n",
        "    print('O código do produto é '+str(a)+', o código do país é '+str(b)+ \n",
        "    ', e o preço final é '+str(pfinal))\n",
        "  elif(b == '2'):\n",
        "    imp = 15/100\n",
        "    print('O código do produto é '+str(a)+', o código do país é '+str(b)+ \n",
        "    ', e o preço final é '+str(pfinal))\n",
        "  else:\n",
        "    imp = 25/100\n",
        "    print('O código do produto é '+str(a)+', o código do país é '+str(b)+ \n",
        "    ', e o preço final é '+str(pfinal))\n",
        "else:\n",
        "  preco = 35\n",
        "  if(b == '1'):\n",
        "    imp = 0 \n",
        "    pfinal = pkg\n",
        "    print('O código do produto é '+str(a)+', o código do país é '+str(b)+ \n",
        "    ', e o preço final é '+str(pfinal))\n",
        "  elif(b == '2'):\n",
        "    imp = 15/100\n",
        "    print('O código do produto é '+str(a)+', o código do país é '+str(b)+ \n",
        "    ', e o preço final é '+str(pfinal))\n",
        "  else:\n",
        "    imp = 25/100\n",
        "    print('O código do produto é '+str(a)+', o código do país é '+str(b)+ \n",
        "    ', e o preço final é '+str(pfinal))\n",
        "    \n"
      ],
      "execution_count": 2,
      "outputs": [
        {
          "output_type": "stream",
          "text": [
            "Digite o código do produto: 5\n",
            "Digite o código do país de origem: 2\n",
            "Digite o peso do produto, em quilos: 1\n",
            "O código do produto é 5, o código do país é 2, e o preço final é 0.0\n"
          ],
          "name": "stdout"
        }
      ]
    },
    {
      "cell_type": "markdown",
      "metadata": {
        "id": "hWRMa-3azC0Y",
        "colab_type": "text"
      },
      "source": [
        "13. Escreva um programa que calcule o quadrado e o cubo dos números de 0 a \n",
        "10, e imprima os valores em forma de tabela. Número | Quadrado | Cubo"
      ]
    },
    {
      "cell_type": "code",
      "metadata": {
        "id": "uoSRvAuMzC0Z",
        "colab_type": "code",
        "colab": {
          "base_uri": "https://localhost:8080/",
          "height": 204
        },
        "outputId": "b9d4bbe9-1932-417d-a63e-68594556e3ce"
      },
      "source": [
        "for i in range(0,11):\n",
        "  quad = i*i\n",
        "  cub = i*i*i\n",
        "  print(str(i)+'|'+str(quad)+'|'+str(cub))\n"
      ],
      "execution_count": 16,
      "outputs": [
        {
          "output_type": "stream",
          "text": [
            "0|0|0\n",
            "1|1|1\n",
            "2|4|8\n",
            "3|9|27\n",
            "4|16|64\n",
            "5|25|125\n",
            "6|36|216\n",
            "7|49|343\n",
            "8|64|512\n",
            "9|81|729\n",
            "10|100|1000\n"
          ],
          "name": "stdout"
        }
      ]
    },
    {
      "cell_type": "markdown",
      "metadata": {
        "id": "ZFLMLT9lzC0c",
        "colab_type": "text"
      },
      "source": [
        "14. Um funcionário de uma empresa recebe, anualmente, aumento salarial. Sabe-se que:\n",
        "\n",
        "- Esse funcionário foi contratado em 2005, com salário inicial de R\\\\$ 1.000,00.\n",
        "- Em 2006, ele recebeu aumento de 1,5% sobre seu salário inicial.\n",
        "- A partir de 2007 (inclusive), os aumentos salariais sempre corresponderam ao dobro do percentual do ano anterior.\n",
        "\n",
        "Faça um programa que determine o salário atual desse funcionário."
      ]
    },
    {
      "cell_type": "code",
      "metadata": {
        "id": "aWxvcHUWzC0d",
        "colab_type": "code",
        "colab": {
          "base_uri": "https://localhost:8080/",
          "height": 289
        },
        "outputId": "775fcd23-fdf4-4c7f-e047-580021b881bb"
      },
      "source": [
        "a = 1.000\n",
        "novosal = 0 \n",
        "tax = 15/1000\n",
        "ntax = 0\n",
        "\n",
        "for i in range(2005, 2021):\n",
        "  ntax += tax\n",
        "  novosal = (a+(a*ntax))\n",
        "  print(round(novosal,4))"
      ],
      "execution_count": 37,
      "outputs": [
        {
          "output_type": "stream",
          "text": [
            "1.015\n",
            "1.03\n",
            "1.045\n",
            "1.06\n",
            "1.075\n",
            "1.09\n",
            "1.105\n",
            "1.12\n",
            "1.135\n",
            "1.15\n",
            "1.165\n",
            "1.18\n",
            "1.195\n",
            "1.21\n",
            "1.225\n",
            "1.24\n"
          ],
          "name": "stdout"
        }
      ]
    },
    {
      "cell_type": "markdown",
      "metadata": {
        "id": "0GkoI9tizC0e",
        "colab_type": "text"
      },
      "source": [
        "15. Foi feita uma pesquisa para determinar o índice de mortalidade infantil em certo período. Faça um programa que:\n",
        "\n",
        "- Leia o número de crianças nascidas no período;\n",
        "- Identifique o sexo (M ou F) e o tempo de vida de cada criança nascida.\n",
        "\n",
        "O programa deve calcular e mostrar:\n",
        "\n",
        "- A porcentagem de crianças do sexo feminino mortas no período;\n",
        "- A porcentagem de crianças do sexo masculino mortas no período;\n",
        "- A porcentagem de crianças que viveram 24 meses ou menos no período."
      ]
    },
    {
      "cell_type": "code",
      "metadata": {
        "id": "xveCHONmzC0f",
        "colab_type": "code",
        "colab": {}
      },
      "source": [
        ""
      ],
      "execution_count": 0,
      "outputs": []
    },
    {
      "cell_type": "markdown",
      "metadata": {
        "id": "vUqsE5__zC0h",
        "colab_type": "text"
      },
      "source": [
        "16. Faça um programa que receba duas notas de seis alunos. Calcule e mostre:\n",
        "\n",
        "- A média aritmética das duas notas de cada aluno; e\n",
        "- A mensagem que está na tabela a seguir:\n",
        "- O total de alunos aprovados;\n",
        "- O total de alunos de exame;\n",
        "- O total de alunos reprovados;\n",
        "- A média da classe.\n",
        "\n",
        "| Média Aritmética | Situação       |\n",
        "|------------------|----------------|\n",
        "| Entre 0 e 29     | Reprovado      |\n",
        "| Entre 30 e 69    | Exame Especial |\n",
        "| Entre 70 e 100   | Aprovado       |\n"
      ]
    },
    {
      "cell_type": "code",
      "metadata": {
        "id": "L-9vLuTAzC0i",
        "colab_type": "code",
        "colab": {
          "base_uri": "https://localhost:8080/",
          "height": 391
        },
        "outputId": "6c8dacae-b955-4acc-bd2c-0bb729277188"
      },
      "source": [
        "\n",
        "med = []\n",
        "apro = 0 \n",
        "rec = 0\n",
        "repro = 0\n",
        "sit = 0 \n",
        "\n",
        "for i in range(6):\n",
        "  a = float(input('Digite a primeira nota: '))\n",
        "  b = float(input('Digite a segunda nota: '))\n",
        "  media = ((a+b)/2)\n",
        "  if(media<=29):\n",
        "    repro += 1\n",
        "    sit = 'Reprovado'\n",
        "  elif(media>=30 and media<=69):\n",
        "    rec += 1\n",
        "    sit = 'Exame especial'\n",
        "  else:\n",
        "    apro += 1\n",
        "    sit = 'Aprovado'\n",
        "  print('Sua média foi '+str(media)+', você foi '+str(sit))\n",
        "  med.append(media)\n",
        "\n",
        "print('O total de alunos aprovados foi: '+str(apro)+'\\nO total de alunos reprovados foi: '+str(repro)+'\\nO total de alunos em exame especial foi: '+str(rec))\n",
        "medfin = 0 \n",
        "for i in range(len(med)):\n",
        "  medfin += med[i]\n",
        "  medturma = medfin/len(med)\n",
        "\n",
        "print('A média da turma foi '+str(medturma))\n",
        "\n",
        "      \n",
        "\n"
      ],
      "execution_count": 46,
      "outputs": [
        {
          "output_type": "stream",
          "text": [
            "Digite a primeira nota: 90\n",
            "Digite a segunda nota: 10\n",
            "Sua média foi 50.0, você foi Exame especial\n",
            "Digite a primeira nota: 20\n",
            "Digite a segunda nota: 50\n",
            "Sua média foi 35.0, você foi Exame especial\n",
            "Digite a primeira nota: 90\n",
            "Digite a segunda nota: 90\n",
            "Sua média foi 90.0, você foi Aprovado\n",
            "Digite a primeira nota: 10\n",
            "Digite a segunda nota: 10\n",
            "Sua média foi 10.0, você foi Reprovado\n",
            "Digite a primeira nota: 20\n",
            "Digite a segunda nota: 20\n",
            "Sua média foi 20.0, você foi Reprovado\n",
            "Digite a primeira nota: 90\n",
            "Digite a segunda nota: 90\n",
            "Sua média foi 90.0, você foi Aprovado\n",
            "O total de alunos aprovados foi: 2\n",
            "O total de alunos reprovados foi: 2\n",
            "O total de alunos em exame especial foi: 2\n",
            "A média da turma foi 49.166666666666664\n"
          ],
          "name": "stdout"
        }
      ]
    },
    {
      "cell_type": "markdown",
      "metadata": {
        "id": "ZkLUBHNfzC0l",
        "colab_type": "text"
      },
      "source": [
        "17. Faça um programa para calcular a área de um triângulo e que não permita a entrada de dados inválidos, ou seja, medidas menores ou iguais a 0."
      ]
    },
    {
      "cell_type": "code",
      "metadata": {
        "id": "zaWJbM6mzC0n",
        "colab_type": "code",
        "colab": {
          "base_uri": "https://localhost:8080/",
          "height": 68
        },
        "outputId": "1ec394fa-8b1d-495a-ef8e-8c59482ff018"
      },
      "source": [
        "a = float(input('Digite a base: '))\n",
        "b = float(input('Digite a altura: '))\n",
        "\n",
        "if(a<=0):\n",
        "  print('Medida inválida!')\n",
        "if(b<=0):\n",
        "  print('Medida inválida!')\n",
        "else:\n",
        "  tri = (a*b)/2\n",
        "  print('A área do triângulo é '+str(tri))"
      ],
      "execution_count": 20,
      "outputs": [
        {
          "output_type": "stream",
          "text": [
            "Digite a base: 2\n",
            "Digite a altura: 5\n",
            "A área do triângulo é 5.0\n"
          ],
          "name": "stdout"
        }
      ]
    },
    {
      "cell_type": "markdown",
      "metadata": {
        "id": "6kuXU61PzC0q",
        "colab_type": "text"
      },
      "source": [
        "18. Faça um programa que leia um conjunto não determinado de valores e mostre o valor lido, seu quadrado, seu cubo e sua raiz quadrada. Finalize a entrada de dados com um valor negativo ou zero."
      ]
    },
    {
      "cell_type": "code",
      "metadata": {
        "id": "IFBPeSJRzC0r",
        "colab_type": "code",
        "colab": {}
      },
      "source": [
        "while 1 == 1:\n",
        "\n",
        "  a = float(input('Digite um número: '))\n",
        "  arr = []\n",
        "  if(a>0):\n",
        "    for i in range(len(arr)):\n",
        "      quad = (a*a)\n",
        "      cub = (a*a*a)\n",
        "      rquad = (a**(1/2))\n",
        "  else: \n",
        "      print('Número: '+str(a)+', quadrado: '+str(quad)+', cubo: '+str(cub)+\n",
        "          ' e raiz quadrada: '+str(rquad)+'\\n Operação finalizada!')\n"
      ],
      "execution_count": 0,
      "outputs": []
    },
    {
      "cell_type": "markdown",
      "metadata": {
        "id": "RZckUCiZzC0t",
        "colab_type": "text"
      },
      "source": [
        "19. Faça um programa que leia um número não determinado de pares de valores [m,n], todos inteiros e positivos, um par de cada vez, e que calcule e mostre a soma de todos os números inteiros entre m e n (inclusive). A digitação de pares terminará quando m for maior ou igual a n."
      ]
    },
    {
      "cell_type": "code",
      "metadata": {
        "id": "Htqt4Ih1zC0t",
        "colab_type": "code",
        "colab": {
          "base_uri": "https://localhost:8080/",
          "height": 136
        },
        "outputId": "b2769425-0c5b-4bae-e307-9ee5a10021c7"
      },
      "source": [
        "while 1 == 1:\n",
        "  aux = 0\n",
        "  soma = 0\n",
        "  arr = []\n",
        "\n",
        "  a = int(input('Digite um número: '))\n",
        "  b = int(input('Digite outro número: '))\n",
        "  arr.append(a)\n",
        "  arr.append(b)\n",
        "  if(a>=b):\n",
        "    print('O número '+str(a)+' é maior/igual ao número '+str(b)+'\\nOperação finalizada!')\n",
        "    break\n",
        "\n",
        "  aux += 1\n",
        "  for i in range(len(arr)):\n",
        "    soma += arr[i]\n",
        "  print('A soma dos número é '+str(soma))\n",
        "\n",
        "\n"
      ],
      "execution_count": 54,
      "outputs": [
        {
          "output_type": "stream",
          "text": [
            "Digite um número: 10\n",
            "Digite outro número: 20\n",
            "A soma dos número é 30\n",
            "Digite um número: 30\n",
            "Digite outro número: 20\n",
            "O número 30 é maior/igual ao número 20\n",
            "Operação finalizada!\n"
          ],
          "name": "stdout"
        }
      ]
    },
    {
      "cell_type": "markdown",
      "metadata": {
        "id": "JOzGkibszC0w",
        "colab_type": "text"
      },
      "source": [
        "20. Faça um programa que receba vários números, calcule e mostre:\n",
        "\n",
        "    - A soma dos números digitados;\n",
        "    - A quantidade de números digitados;\n",
        "    - A média dos números digitados;\n",
        "    - O maior número digitado;\n",
        "    - O menor número digitado;\n",
        "    - A média dos números pares;\n",
        "    - A porcentagem dos números ímpares entre todos os números digitados.\n",
        "\n",
        "Finalize a entrada de dados com a digitação do número 0."
      ]
    },
    {
      "cell_type": "code",
      "metadata": {
        "id": "L5IWAJwyzC0x",
        "colab_type": "code",
        "colab": {}
      },
      "source": [
        ""
      ],
      "execution_count": 0,
      "outputs": []
    }
  ]
}